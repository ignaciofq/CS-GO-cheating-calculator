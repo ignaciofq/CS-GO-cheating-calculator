{
 "cells": [
  {
   "cell_type": "markdown",
   "id": "74df44a8-8e75-4cfb-afa9-b71b4122bed8",
   "metadata": {},
   "source": [
    "# 1. Data Collection\n",
    "The starting point is two lists of Steam64 IDs extracted from: https://tracker.gg/csgo/ & https://vaclist.net/banned"
   ]
  },
  {
   "cell_type": "code",
   "execution_count": 24,
   "id": "f934b91f-e863-427f-8cc4-dd592df3f29a",
   "metadata": {
    "tags": []
   },
   "outputs": [
    {
     "name": "stdout",
     "output_type": "stream",
     "text": [
      "Banned Accounts: 1274\n",
      "Experienced Accounts: 1397\n"
     ]
    }
   ],
   "source": [
    "import pandas as pd\n",
    "import requests\n",
    "\n",
    "# Lists with Account IDs\n",
    "banned = pd.read_excel('banned.xlsx', header=None, squeeze=True).tolist()\n",
    "experienced = pd.read_excel('experienced.xlsx', header=None, squeeze=True).tolist()\n",
    "\n",
    "print(\"Banned Accounts:\",len(banned))\n",
    "print(\"Experienced Accounts:\",len(experienced))"
   ]
  },
  {
   "cell_type": "code",
   "execution_count": 26,
   "id": "22d61385-d7df-4ff2-8b6c-d090a23e71cd",
   "metadata": {},
   "outputs": [],
   "source": [
    "# Set API parameters & Check VAC Bans to filter data\n",
    "api_key = 'X' # Replace with your own API key if you are going to use this code\n",
    "app_id = \"730\" # Counter-Strike: Global Offensive\n",
    "\n",
    "vacbanned = []\n",
    "for steam_id in banned:\n",
    "    url = f'https://api.steampowered.com/ISteamUser/GetPlayerBans/v1/?key={api_key}&steamids={steam_id}'\n",
    "    response = requests.get(url)\n",
    "    data = response.json()\n",
    "    try:\n",
    "        if data[\"players\"][0][\"VACBanned\"]:\n",
    "            vacbanned.append(steam_id)\n",
    "    except (KeyError, IndexError):\n",
    "        continue       "
   ]
  },
  {
   "cell_type": "code",
   "execution_count": 29,
   "id": "2bf10120-ca59-46e5-8911-3a072250a160",
   "metadata": {},
   "outputs": [
    {
     "name": "stdout",
     "output_type": "stream",
     "text": [
      "Accounts VAC-Banned: 484\n"
     ]
    }
   ],
   "source": [
    "print(\"Accounts VAC-Banned:\",len(vacbanned))"
   ]
  },
  {
   "cell_type": "code",
   "execution_count": 28,
   "id": "ad93ee6b-edad-4aa4-9a0b-68e6b0acbfad",
   "metadata": {},
   "outputs": [],
   "source": [
    "# Create dataframe with banned player's stats\n",
    "banned_stats = []\n",
    "for steam_id in vacbanned:\n",
    "    url = f'https://api.steampowered.com/ISteamUserStats/GetUserStatsForGame/v2/?appid={app_id}&key={api_key}&steamid={steam_id}'\n",
    "    response = requests.get(url)\n",
    "    data = response.json()\n",
    "    if 'playerstats' in data:\n",
    "        playerstats = data['playerstats']\n",
    "        if 'stats' in playerstats:\n",
    "            stats_data = playerstats['stats']\n",
    "            stats_dict = {'steam_id': steam_id}\n",
    "            for stat in stats_data:\n",
    "                stats_dict[stat['name']] = stat['value']\n",
    "            banned_stats.append(stats_dict)\n",
    "            \n",
    "#Converting to df and adding y = 1\n",
    "banned_df = pd.DataFrame(banned_stats)\n",
    "banned_df['Banned'] = 1"
   ]
  },
  {
   "cell_type": "code",
   "execution_count": 31,
   "id": "f9b2014d-061c-41d4-b0bf-9a1d7d42344c",
   "metadata": {},
   "outputs": [
    {
     "name": "stdout",
     "output_type": "stream",
     "text": [
      "VAC-Banned CS:GO Accounts: 263 \n",
      "Features: 243\n"
     ]
    }
   ],
   "source": [
    "x,y = banned_df.shape\n",
    "print(\"VAC-Banned CS:GO Accounts:\",x,\"\\nFeatures:\",y)"
   ]
  },
  {
   "cell_type": "code",
   "execution_count": 42,
   "id": "3ad8d5b0-bfd7-4ff0-ada2-08c851c57a5f",
   "metadata": {},
   "outputs": [],
   "source": [
    "# Create dataframe with experienced player's stats\n",
    "experienced_stats = []\n",
    "for steam_id in experienced[1074:]:\n",
    "    url = f'https://api.steampowered.com/ISteamUserStats/GetUserStatsForGame/v2/?appid={app_id}&key={api_key}&steamid={steam_id}'\n",
    "    response = requests.get(url)\n",
    "    data = response.json()\n",
    "    if 'playerstats' in data:\n",
    "        playerstats = data['playerstats']\n",
    "        if 'stats' in playerstats:\n",
    "            stats_data = playerstats['stats']\n",
    "            stats_dict = {'steam_id': steam_id}\n",
    "            for stat in stats_data:\n",
    "                stats_dict[stat['name']] = stat['value']\n",
    "            experienced_stats.append(stats_dict)\n",
    "            \n",
    "# Converting to df and adding y = 0\n",
    "experienced_df = pd.DataFrame(experienced_stats)\n",
    "experienced_df['Banned'] = 0"
   ]
  },
  {
   "cell_type": "code",
   "execution_count": 44,
   "id": "bfefa838-37d0-48a8-9721-536988786837",
   "metadata": {},
   "outputs": [
    {
     "name": "stdout",
     "output_type": "stream",
     "text": [
      "Experienced CS:GO Accounts: 1358 \n",
      "Features: 268\n"
     ]
    }
   ],
   "source": [
    "x,y = experienced_df.shape\n",
    "print(\"Experienced CS:GO Accounts:\",x,\"\\nFeatures:\",y)"
   ]
  },
  {
   "cell_type": "code",
   "execution_count": 51,
   "id": "36562352-3a96-4b43-91a3-909e7c0e5354",
   "metadata": {},
   "outputs": [],
   "source": [
    "# Create dataset to train Machine Learning model\n",
    "merged_df = pd.concat([banned_df, experienced_df], axis=0)\n",
    "merged_df = merged_df.reset_index(drop=True)\n",
    "merged_df[\"steam_id\"] = merged_df[\"steam_id\"].astype(str)\n",
    "merged_df.to_excel(\"dataset.xlsx\",index=False)"
   ]
  }
 ],
 "metadata": {
  "kernelspec": {
   "display_name": "Python 3 (ipykernel)",
   "language": "python",
   "name": "python3"
  },
  "language_info": {
   "codemirror_mode": {
    "name": "ipython",
    "version": 3
   },
   "file_extension": ".py",
   "mimetype": "text/x-python",
   "name": "python",
   "nbconvert_exporter": "python",
   "pygments_lexer": "ipython3",
   "version": "3.10.9"
  }
 },
 "nbformat": 4,
 "nbformat_minor": 5
}
