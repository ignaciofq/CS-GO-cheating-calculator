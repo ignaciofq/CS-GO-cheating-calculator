{
 "cells": [
  {
   "cell_type": "markdown",
   "id": "77a3c26e-9628-4eb8-aef4-b98df5c27124",
   "metadata": {},
   "source": [
    "# CS:GO Cheater Probability Calculator\n",
    "# 4. Testing the model with out-of-sample accounts"
   ]
  },
  {
   "cell_type": "code",
   "execution_count": 74,
   "id": "b5faab32-b597-4087-bdb1-e9faf6fc44b5",
   "metadata": {},
   "outputs": [
    {
     "name": "stdin",
     "output_type": "stream",
     "text": [
      "Please, enter Steam64 ID: 76561198047193521\n"
     ]
    },
    {
     "name": "stdout",
     "output_type": "stream",
     "text": [
      "\n",
      "Player Stats:\n"
     ]
    },
    {
     "data": {
      "text/html": [
       "<style type=\"text/css\">\n",
       "</style>\n",
       "<table id=\"T_cab2f\">\n",
       "  <thead>\n",
       "    <tr>\n",
       "      <th id=\"T_cab2f_level0_col0\" class=\"col_heading level0 col0\" >win_%</th>\n",
       "      <th id=\"T_cab2f_level0_col1\" class=\"col_heading level0 col1\" >hs_%</th>\n",
       "      <th id=\"T_cab2f_level0_col2\" class=\"col_heading level0 col2\" >mvp_%</th>\n",
       "      <th id=\"T_cab2f_level0_col3\" class=\"col_heading level0 col3\" >kd</th>\n",
       "      <th id=\"T_cab2f_level0_col4\" class=\"col_heading level0 col4\" >dmg_round</th>\n",
       "      <th id=\"T_cab2f_level0_col5\" class=\"col_heading level0 col5\" >accuracy</th>\n",
       "      <th id=\"T_cab2f_level0_col6\" class=\"col_heading level0 col6\" >contribution_round</th>\n",
       "      <th id=\"T_cab2f_level0_col7\" class=\"col_heading level0 col7\" >matches_played</th>\n",
       "    </tr>\n",
       "  </thead>\n",
       "  <tbody>\n",
       "    <tr>\n",
       "      <td id=\"T_cab2f_row0_col0\" class=\"data row0 col0\" >0.460227</td>\n",
       "      <td id=\"T_cab2f_row0_col1\" class=\"data row0 col1\" >0.354415</td>\n",
       "      <td id=\"T_cab2f_row0_col2\" class=\"data row0 col2\" >0.124028</td>\n",
       "      <td id=\"T_cab2f_row0_col3\" class=\"data row0 col3\" >0.894301</td>\n",
       "      <td id=\"T_cab2f_row0_col4\" class=\"data row0 col4\" >126.377862</td>\n",
       "      <td id=\"T_cab2f_row0_col5\" class=\"data row0 col5\" >0.220786</td>\n",
       "      <td id=\"T_cab2f_row0_col6\" class=\"data row0 col6\" >2.102134</td>\n",
       "      <td id=\"T_cab2f_row0_col7\" class=\"data row0 col7\" >2640</td>\n",
       "    </tr>\n",
       "  </tbody>\n",
       "</table>\n"
      ],
      "text/plain": [
       "<pandas.io.formats.style.Styler at 0x19d00b5f400>"
      ]
     },
     "metadata": {},
     "output_type": "display_data"
    },
    {
     "name": "stdout",
     "output_type": "stream",
     "text": [
      "\n",
      "Probability of Cheating: 22%\n"
     ]
    }
   ],
   "source": [
    "from sklearn.ensemble import RandomForestClassifier\n",
    "from joblib import load\n",
    "import requests\n",
    "import pandas as pd\n",
    "import numpy as np\n",
    "import warnings\n",
    "warnings.filterwarnings(\"ignore\")\n",
    "\n",
    "rf_classifier = load('cheater_proba_rf_classifier.joblib')\n",
    "\n",
    "steam_id = input(\"Please, enter Steam64 ID:\")\n",
    "api_key = 'X' # Replace with your own API key if you are going to use this code\n",
    "app_id = \"730\"\n",
    "\n",
    "def check_stats():\n",
    "    # 1. Get Stats\n",
    "    stats = []\n",
    "    url = f'https://api.steampowered.com/ISteamUserStats/GetUserStatsForGame/v2/?appid={app_id}&key={api_key}&steamid={steam_id}'\n",
    "    response = requests.get(url)\n",
    "    data = response.json()\n",
    "    if 'playerstats' in data:\n",
    "        playerstats = data['playerstats']\n",
    "        if 'stats' in playerstats:\n",
    "            stats_data = playerstats['stats']\n",
    "            stats_dict = {} #{'steam_id': steam_id}\n",
    "            for stat in stats_data:\n",
    "                stats_dict[stat['name']] = stat['value']\n",
    "            stats.append(stats_dict)\n",
    "    else:\n",
    "        print(\"This account does not allow stat tracking\")\n",
    "        return\n",
    "\n",
    "    # 2. Create features\n",
    "    df = pd.DataFrame(stats)\n",
    "    df['win_%'] = df['total_matches_won'] / df['total_matches_played']\n",
    "    df[\"kd\"] = df['total_kills'] / df['total_deaths']\n",
    "    df[\"hs_%\"] = df['total_kills_headshot'] / df['total_kills']\n",
    "    df[\"accuracy\"] = df['total_shots_hit'] / df['total_shots_fired']\n",
    "    df[\"mvp_%\"] = df[\"total_mvps\"] / df['total_rounds_played']\n",
    "    df[\"dmg_round\"] = df[\"total_damage_done\"] / df['total_rounds_played']\n",
    "    df[\"contribution_round\"] = df[\"total_contribution_score\"] / df['total_rounds_played']\n",
    "    matches_played = df[\"total_matches_played\"][0]\n",
    "    columns = ['win_%',\"hs_%\",\"mvp_%\",\"kd\",\"dmg_round\",\"accuracy\",\"contribution_round\"]\n",
    "    df = df[columns].copy()\n",
    "\n",
    "    # 3. Run Model\n",
    "    n_df = np.log1p(df)\n",
    "    y_pred = rf_classifier.predict(n_df)\n",
    "    class_probabilities = rf_classifier.predict_proba(n_df)\n",
    "    probability = int(class_probabilities[:, 1]*100)\n",
    "\n",
    "    # 4. Return results\n",
    "    df[\"matches_played\"] = matches_played \n",
    "    print(f\"\\nPlayer Stats:\")\n",
    "    display(df.style.hide_index())\n",
    "    print(f\"\\nProbability of Cheating: {probability}%\")\n",
    "    return\n",
    "\n",
    "check_stats()\n",
    "# Testing with my own account"
   ]
  },
  {
   "cell_type": "code",
   "execution_count": 58,
   "id": "71dbec27-b5a6-4c82-8daa-92e120e82b3c",
   "metadata": {},
   "outputs": [
    {
     "data": {
      "text/plain": [
       "'76561198047193521'"
      ]
     },
     "execution_count": 58,
     "metadata": {},
     "output_type": "execute_result"
    }
   ],
   "source": [
    "# Vanity URL to Steam64 ID converter\n",
    "vanity_url = input(\"Please enter vanity name:\") # Only the XXX in https://steamcommunity.com/id/XXX/\n",
    "url = f\"http://api.steampowered.com/ISteamUser/ResolveVanityURL/v0001/?key={api_key}&vanityurl={vanity_url}\"\n",
    "response = requests.get(url)\n",
    "data = response.json()\n",
    "data[\"response\"][\"steamid\"]"
   ]
  }
 ],
 "metadata": {
  "kernelspec": {
   "display_name": "Python 3 (ipykernel)",
   "language": "python",
   "name": "python3"
  },
  "language_info": {
   "codemirror_mode": {
    "name": "ipython",
    "version": 3
   },
   "file_extension": ".py",
   "mimetype": "text/x-python",
   "name": "python",
   "nbconvert_exporter": "python",
   "pygments_lexer": "ipython3",
   "version": "3.10.9"
  }
 },
 "nbformat": 4,
 "nbformat_minor": 5
}
